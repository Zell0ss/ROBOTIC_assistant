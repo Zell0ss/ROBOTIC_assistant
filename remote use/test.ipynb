{
 "cells": [
  {
   "cell_type": "code",
   "execution_count": 13,
   "metadata": {},
   "outputs": [
    {
     "name": "stdout",
     "output_type": "stream",
     "text": [
      "The name of our team is ROBOTIC.\n"
     ]
    }
   ],
   "source": [
    "import chat\n",
    "\"\"\"\n",
    "Other questions you can check:\n",
    "\n",
    "Do you have other names?\n",
    "Do you do manual provissioning?\n",
    "can you trigger a provission?\n",
    "The onboarding of a GEN account in a AD entitlement failed\n",
    "I cannot connect through my cyberark account to the server\n",
    "How can I know the status of my entitlement?\n",
    "A database server  is stuck doing a backup. What should I do?\n",
    "A server is stuck updating. What should I do?\n",
    "What are POs main responsibilities?\n",
    "\"\"\"\n",
    "question = \"Whats the name of your team?\"\n",
    "print(chat.get_answer(question))"
   ]
  }
 ],
 "metadata": {
  "kernelspec": {
   "display_name": ".venv",
   "language": "python",
   "name": "python3"
  },
  "language_info": {
   "codemirror_mode": {
    "name": "ipython",
    "version": 3
   },
   "file_extension": ".py",
   "mimetype": "text/x-python",
   "name": "python",
   "nbconvert_exporter": "python",
   "pygments_lexer": "ipython3",
   "version": "3.11.0rc1"
  }
 },
 "nbformat": 4,
 "nbformat_minor": 2
}
