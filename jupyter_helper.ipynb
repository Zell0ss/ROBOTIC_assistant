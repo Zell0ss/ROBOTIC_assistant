{
 "cells": [
  {
   "cell_type": "markdown",
   "metadata": {},
   "source": [
    "To feed big documents into Chroma for retrieval-augmented generation (RAG) with LangChain, you'll want to break it into manageable chunks, embed them, and store them efficiently for querying. \n",
    "Its also useful that the document has also its internal structure.\n",
    "\n",
    "Here's an approach that works well:\n",
    "\n",
    "## 1. Chunking the Text\n",
    "Given its length (~8800 characters) and structure, you should split it into meaningful sections while maintaining context:\n",
    "- Use LangChain's RecursiveCharacterTextSplitter or MarkdownTextSplitter to divide the document intelligently.\n",
    "- Maintain coherence by chunking around 512–1500 characters per section.\n",
    "- Ensure headers (e.g., \"Onboarding of different kinds of entitlements\") are preserved to retain contextual hierarchy. Ideally, headers should stay attached to their respective content during embedding to maintain context. Otherwise, when retrieving chunks, you may lose the structural meaning of the document.\n",
    "\n",
    "For this ther best approach is to \n",
    "- format the document in markdown \n",
    "- leave extra carriage returns between the paragraphs \n",
    "- adjust the chunk_size\n",
    "\n",
    "\n"
   ]
  },
  {
   "cell_type": "code",
   "execution_count": 18,
   "metadata": {},
   "outputs": [
    {
     "data": {
      "text/plain": [
       "[\"# 0. Introduction\\nThe name of our team is ROBOTIC. We are responsible of the creation and maintennance of BNP's private cloud via DPI wich is its action broker and library of products and Vanish wich is our orchestator. We are also the responsible team of creating and maintaining the onboarding automations for some entitlements of MyIAM. I would provide you some information and then I will ask you to answer some emails I will provide.\\n\\n## 1. Entitlements automatic onboarding\\nOur team is known in MyIAM as IV2 Manual Provisioner. Despite the unfortunate name we have in MyIAM, ROBOTIC is responsible of maintaining the automatic onboarding flows for IV2 and we are not allowed nor we have rights to onboard anything manually. We do not outsource our automatic flows to onboard anything else. All our onboarding is done automatically and is triggered either by MyIAM to provision an entitlement managed by us or by ecosystem and subscription deployments.\\nFor IV2 extended rights team defined a complete microjurisdiction (for more detail you can check it here https://collab.cib.echonet/iandp/sites/Risk-and-Strategy/IT%20Security%20Operations/SecProd-OS-and-Services/UserGuides/SitePages/Home.aspx ).\\nDue to that we are limited in what our flows are allowed and what we technically can do.\\nUsers can request entitlements for them or for service users through MyIAM. The entitlements that we onboard can be divided in three:\",\n",
       " '### 1.1 Tardis (ecosystem) entitlements\\nOnboarded in ELDAP groups, this entitlements grant access ecosystems in Marketplace to manage and request subscriptions from its web portal. It also cascades to the all the AD entitlements of said ecosystem\\nExample:\\nEntitlement: TARDIS_ROBOTIC-TOOLS_APS\\nELDAP group: cn=TARDIS_ROBOTIC-TOOLS_APS,ou=group,ou=Tardis,ou=Applications,dc=root\\nFor Tardis entitlements we can onboard Users which account has been activated at least 12 hours prior also, for AD propagation, user needs to have a tec account associated\\nWe cannot onboard any non-human account (SVC, GEN, OPS, …)',\n",
       " '### 1.2 Cyberark entitlements\\nOnboarded in ELDAP groups in EMEA and APAC and in AD in AMER, this entitlements grant access to servers or applications through Cyberark site. For more information, please follow the cyberark training (link at the bottom)\\nExample:\\nEntitlement: IV2 EMEA Cyberark ROBOTIC-TOOLS Breakglass\\nELDAP group or AD group (only for AMER Cyberark entitlements): cn=IV2EMEA_CYBERARK_IV2AROBOTTOOL_Bglass,ou=group,ou=CyberArk,ou=Applications,dc=root\\nFor a detailed explanation of what exact access gives each kind of entitlement (breakglass, user, dev & owner) please refer to the extended rights documentation (https://collab.cib.echonet/iandp/sites/Risk-and-Strategy/IT%20Security%20Operations/SecProd-OS-and-Services/UserGuides/SitePages/Home.aspx )\\n- For Cyberark entitlements we can onboard only human users (UIDs) which account has been activated at least 12 hours prior\\n- We cannot onboard here any non human account (SVC, GEN, OPS, …). The SVC and GEN accounts for managing the ecosystem and its subscriptions are already onboarded when said ecosystem/subscription is created\\n- We also cannot onboard the Breakglass entitlement to an user that already has the User one.\\nFor checking ELDAP groups of an user you can use their own web site https://eldaptool.cib.echonet/ldapTools/',\n",
       " \"### 1.3 AD entitlements\\nOnboarded in AD groups as its name implies, this entitlements grant direct access to servers or applications. They are created automatically when the related subscription is deployed, if they dont exists yet. Users are onboarded automatically on them when they are onboarded in the ecosytem's TARDIS entitlement\\nExample\\nEntitlement: IV2AMER_ADM_UNIX_ROBOTIC-TOOLS_ADMIN_DEV\\nAD group: CN=IV2AMER_ADM_UNIX_ROBOTIC-TOOLS_ADMIN_DEV,OU=Tardis,OU=IV2,DC=amer,DC=net,DC=intra\\nFor Active Directory we can only onboard: users who have ONE ONLY technical account or a legacy adm account and they can be onboarded only in DEV. We will locate automatically said account and onboard it\\nFor Active Directory we can also onboard SVC accounts (on DEV, STG, PRD).\\nAlso, in case of SVC accounts, they should be IV2 accounts and from the same AD root as, unlike the users, they are not syndicated between AD. So, for example, in case of CN=IV2AMER_ADM_UNIX_ROBOTIC-TOOLS_ADMIN_DEV,OU=Tardis,OU=IV2,DC=amer,DC=net,DC=intra we are only allowed to onboard service users from DC=amer, DC=net, DC=intra\\nFor AD entitlements we cannot onboard uids instead tec accounts. We onboard tec accounts and with the limitations already explained. We cannot also onboard GEN or OPS accounts, only SVC. And as already commented wecannot onboard any SVC account outside the AD group DC branch\",\n",
       " '## 2. Exceptions to automatic onboarding\\nAs commented we are limited in what we are allowed to onboard. Any exception to what we commented here should be checked with extended rights for cyberark issues and with IAM – OPS/Tare Akshay (ref mail: RE: INC8991878 - Cyberark safe new account#QRY#1#20) for AD issues as\\nThey are not contemplated in the automatic microjurisdiction defined and thus we are not allowed to onboard it.\\nWe also have not the know-how nor the rights on onboarding anything outside what we already do.',\n",
       " \"## 3. MyIAM workitem problems\\nAs commented we are only responsible of the onboarding of the users in the respective ELDAP/AD groups. In case of access problems the scope is wide and Robotic's is only the automatic provisioning once the workitem is approved, so:\\n- if the workitem is pending: its myIAM's scope to review why is not progressing, help the user reach the correct approvers and push it so it's either finished or failed\\n- if the workitem is finished: this is an access problem; it is the owner of the resource the one to check what is happening. You can see more in point 4 below.\\n- if the workitem is in validation: according to MyIAM team, the request is completed but during this period, MyIAM checks the application database whether requested access is provisioned at application side. If not, it will go to incomplete status after 20 days.\\n- if the workitem is failed: this is the only issue that should be passed to us for investigate. As MyIAM does not give us access to the logs, they should get the logs of this workitem and pass them along to us for reviewing\",\n",
       " '## 4. Access problems\\nOnce the onboarding is finished we cannot check anything else. If an entitlement is onboarded but the user experiment access problems that could be due a variety of reasons. In any case we cannot check anything so please liaise with the owner of the resource you have not access, for example:\\nregional cyberark/extended rights team: for them to confirm that the entitlement you requested was indeed the one you needed for what you wanted to do and to check cyberark application itself.\\nThe product owner, wich you can find on the product page in marketplace, so he can confirm you on how to access or manage his product or even if its allowed what you are trying to do.\\nunix/wintel team: if previous two confirmed you are allowed to do what you intend and that the entitlement \"entitles\" you to do so, they need to check in the server itself for technical problems.',\n",
       " '## 5. Useful Addresses\\n- GLOBAL IAM OPERATIONS SUPPORT global.iam.operations.support@asia.bnpparibas.com\\n- General MyIAM team mailbox: PARIS CIB UAC ; DL Global UAC\\n- MyIAM escalation: akshay.tare@asia.bnpparibas.com, Swapnil.BHOSLE@asia.bnpparibas.com\\n- Region UAC teams:\\n- UK\\t\\t\\t\\tcontrols.uac@bnpparibas.com\\n- Paris\\t\\t\\t\\tparis.cib.uac@bnpparibas.com\\n- Europe\\t\\t\\t\\tbso.cib@bnpparibasfortis.com\\n- Asia-Pacific\\t\\tapac_user_access_client_service@asia.bnpparibas.com\\n- BP2S\\t\\t\\t\\tglobal_bp2s_jurisdiction@bnpparibas.com\\n- Switzerland\\t\\tswiss_sailpoint@bnpparibas.com\\n- Group Finance\\t\\tparis_gf_sailpoint_admin@bnpparibas.com\\n- Latin America\\t\\tlatam_uac@br.bnpparibas.com\\n- North America\\t\\tglobal.iam.operations.support@asia.bnpparibas.com\\n- MEA\\t\\t\\t\\tmea.security.user.entitlement.control@bnpparibas.com\\n- Asset Management\\t\\tAM.GlobalISSecurity@bnpparibas.com\\n\\n### 5.2 Manual Provisioners\\n- APAC Cyberark: apac.production.security@asia.bnpparibas.com\\n- APAC AD: APAC IT ACCESS CONTROL\\n- EMEA cyberark & extended rights: EMEA CIB SECURITY EXTENDED RIGHTS\\n- EMEA AD:\\n- AMER Cyberark & Production security: dl.nar_cyberark@us.bnpparibas.com\\n- AMER CAM (for AD onboarding): NAR CLIENT SERVICES NAR_CAM; nar_uam@us.bnpparibas.com',\n",
       " '## 6. Official Cyberark team documentation.\\n- IT access model: https://collab.cib.echonet/iandp/sites/Risk-and-Strategy/IT%20Security%20Operations/SecProd-OS-and-Services/UserGuides/Public%20Documents/IT_Access_Model.pptx?web=1\\n- Cyberark training: https://hr-bnpparibas.csod.com/lms/scorm/clientLMS/Scorm12IframeContainer.aspx?aicc_sid=AICCHJFKgj9JFGBsdNktoioQ5n-3zg-2sC9E6d8Nr3hh7jE&aicc_url=https://hr-bnpparibas.csod.com/LMS/scorm/aicc.asp']"
      ]
     },
     "execution_count": 18,
     "metadata": {},
     "output_type": "execute_result"
    }
   ],
   "source": [
    "from langchain.text_splitter import MarkdownTextSplitter, RecursiveCharacterTextSplitter\n",
    "\n",
    "# Load your document\n",
    "with open(\"documents/myiam.txt\", \"r\") as f:\n",
    "    text = f.read()\n",
    "\n",
    "# Chunk the text\n",
    "splitter = MarkdownTextSplitter(chunk_size=1500, chunk_overlap=50)\n",
    "chunks = splitter.split_text(text)\n",
    "chunks"
   ]
  },
  {
   "cell_type": "markdown",
   "metadata": {},
   "source": [
    "With this basic splitting we see that the header and the body of a paraghraph will be stored toghether separated by \\n. We can use that to create documents with a header metadata \n",
    "\n",
    "\n"
   ]
  },
  {
   "cell_type": "code",
   "execution_count": 21,
   "metadata": {},
   "outputs": [
    {
     "data": {
      "text/plain": [
       "[Document(metadata={'header': '# 0. Introduction', 'category': 'MyIAM'}, page_content=\"# 0. Introduction\\nThe name of our team is ROBOTIC. We are responsible of the creation and maintennance of BNP's private cloud via DPI wich is its action broker and library of products and Vanish wich is our orchestator. We are also the responsible team of creating and maintaining the onboarding automations for some entitlements of MyIAM. I would provide you some information and then I will ask you to answer some emails I will provide.\\n\\n## 1. Entitlements automatic onboarding\\nOur team is known in MyIAM as IV2 Manual Provisioner. Despite the unfortunate name we have in MyIAM, ROBOTIC is responsible of maintaining the automatic onboarding flows for IV2 and we are not allowed nor we have rights to onboard anything manually. We do not outsource our automatic flows to onboard anything else. All our onboarding is done automatically and is triggered either by MyIAM to provision an entitlement managed by us or by ecosystem and subscription deployments.\\nFor IV2 extended rights team defined a complete microjurisdiction (for more detail you can check it here https://collab.cib.echonet/iandp/sites/Risk-and-Strategy/IT%20Security%20Operations/SecProd-OS-and-Services/UserGuides/SitePages/Home.aspx ).\\nDue to that we are limited in what our flows are allowed and what we technically can do.\\nUsers can request entitlements for them or for service users through MyIAM. The entitlements that we onboard can be divided in three:\"),\n",
       " Document(metadata={'header': '### 1.1 Tardis (ecosystem) entitlements', 'category': 'MyIAM'}, page_content='### 1.1 Tardis (ecosystem) entitlements\\nOnboarded in ELDAP groups, this entitlements grant access ecosystems in Marketplace to manage and request subscriptions from its web portal. It also cascades to the all the AD entitlements of said ecosystem\\nExample:\\nEntitlement: TARDIS_ROBOTIC-TOOLS_APS\\nELDAP group: cn=TARDIS_ROBOTIC-TOOLS_APS,ou=group,ou=Tardis,ou=Applications,dc=root\\nFor Tardis entitlements we can onboard Users which account has been activated at least 12 hours prior also, for AD propagation, user needs to have a tec account associated\\nWe cannot onboard any non-human account (SVC, GEN, OPS, …)'),\n",
       " Document(metadata={'header': '### 1.2 Cyberark entitlements', 'category': 'MyIAM'}, page_content='### 1.2 Cyberark entitlements\\nOnboarded in ELDAP groups in EMEA and APAC and in AD in AMER, this entitlements grant access to servers or applications through Cyberark site. For more information, please follow the cyberark training (link at the bottom)\\nExample:\\nEntitlement: IV2 EMEA Cyberark ROBOTIC-TOOLS Breakglass\\nELDAP group or AD group (only for AMER Cyberark entitlements): cn=IV2EMEA_CYBERARK_IV2AROBOTTOOL_Bglass,ou=group,ou=CyberArk,ou=Applications,dc=root\\nFor a detailed explanation of what exact access gives each kind of entitlement (breakglass, user, dev & owner) please refer to the extended rights documentation (https://collab.cib.echonet/iandp/sites/Risk-and-Strategy/IT%20Security%20Operations/SecProd-OS-and-Services/UserGuides/SitePages/Home.aspx )\\n- For Cyberark entitlements we can onboard only human users (UIDs) which account has been activated at least 12 hours prior\\n- We cannot onboard here any non human account (SVC, GEN, OPS, …). The SVC and GEN accounts for managing the ecosystem and its subscriptions are already onboarded when said ecosystem/subscription is created\\n- We also cannot onboard the Breakglass entitlement to an user that already has the User one.\\nFor checking ELDAP groups of an user you can use their own web site https://eldaptool.cib.echonet/ldapTools/'),\n",
       " Document(metadata={'header': '### 1.3 AD entitlements', 'category': 'MyIAM'}, page_content=\"### 1.3 AD entitlements\\nOnboarded in AD groups as its name implies, this entitlements grant direct access to servers or applications. They are created automatically when the related subscription is deployed, if they dont exists yet. Users are onboarded automatically on them when they are onboarded in the ecosytem's TARDIS entitlement\\nExample\\nEntitlement: IV2AMER_ADM_UNIX_ROBOTIC-TOOLS_ADMIN_DEV\\nAD group: CN=IV2AMER_ADM_UNIX_ROBOTIC-TOOLS_ADMIN_DEV,OU=Tardis,OU=IV2,DC=amer,DC=net,DC=intra\\nFor Active Directory we can only onboard: users who have ONE ONLY technical account or a legacy adm account and they can be onboarded only in DEV. We will locate automatically said account and onboard it\\nFor Active Directory we can also onboard SVC accounts (on DEV, STG, PRD).\\nAlso, in case of SVC accounts, they should be IV2 accounts and from the same AD root as, unlike the users, they are not syndicated between AD. So, for example, in case of CN=IV2AMER_ADM_UNIX_ROBOTIC-TOOLS_ADMIN_DEV,OU=Tardis,OU=IV2,DC=amer,DC=net,DC=intra we are only allowed to onboard service users from DC=amer, DC=net, DC=intra\\nFor AD entitlements we cannot onboard uids instead tec accounts. We onboard tec accounts and with the limitations already explained. We cannot also onboard GEN or OPS accounts, only SVC. And as already commented wecannot onboard any SVC account outside the AD group DC branch\"),\n",
       " Document(metadata={'header': '## 2. Exceptions to automatic onboarding', 'category': 'MyIAM'}, page_content='## 2. Exceptions to automatic onboarding\\nAs commented we are limited in what we are allowed to onboard. Any exception to what we commented here should be checked with extended rights for cyberark issues and with IAM – OPS/Tare Akshay (ref mail: RE: INC8991878 - Cyberark safe new account#QRY#1#20) for AD issues as\\nThey are not contemplated in the automatic microjurisdiction defined and thus we are not allowed to onboard it.\\nWe also have not the know-how nor the rights on onboarding anything outside what we already do.'),\n",
       " Document(metadata={'header': '## 3. MyIAM workitem problems', 'category': 'MyIAM'}, page_content=\"## 3. MyIAM workitem problems\\nAs commented we are only responsible of the onboarding of the users in the respective ELDAP/AD groups. In case of access problems the scope is wide and Robotic's is only the automatic provisioning once the workitem is approved, so:\\n- if the workitem is pending: its myIAM's scope to review why is not progressing, help the user reach the correct approvers and push it so it's either finished or failed\\n- if the workitem is finished: this is an access problem; it is the owner of the resource the one to check what is happening. You can see more in point 4 below.\\n- if the workitem is in validation: according to MyIAM team, the request is completed but during this period, MyIAM checks the application database whether requested access is provisioned at application side. If not, it will go to incomplete status after 20 days.\\n- if the workitem is failed: this is the only issue that should be passed to us for investigate. As MyIAM does not give us access to the logs, they should get the logs of this workitem and pass them along to us for reviewing\"),\n",
       " Document(metadata={'header': '## 4. Access problems', 'category': 'MyIAM'}, page_content='## 4. Access problems\\nOnce the onboarding is finished we cannot check anything else. If an entitlement is onboarded but the user experiment access problems that could be due a variety of reasons. In any case we cannot check anything so please liaise with the owner of the resource you have not access, for example:\\nregional cyberark/extended rights team: for them to confirm that the entitlement you requested was indeed the one you needed for what you wanted to do and to check cyberark application itself.\\nThe product owner, wich you can find on the product page in marketplace, so he can confirm you on how to access or manage his product or even if its allowed what you are trying to do.\\nunix/wintel team: if previous two confirmed you are allowed to do what you intend and that the entitlement \"entitles\" you to do so, they need to check in the server itself for technical problems.'),\n",
       " Document(metadata={'header': '## 5. Useful Addresses', 'category': 'MyIAM'}, page_content='## 5. Useful Addresses\\n- GLOBAL IAM OPERATIONS SUPPORT global.iam.operations.support@asia.bnpparibas.com\\n- General MyIAM team mailbox: PARIS CIB UAC ; DL Global UAC\\n- MyIAM escalation: akshay.tare@asia.bnpparibas.com, Swapnil.BHOSLE@asia.bnpparibas.com\\n- Region UAC teams:\\n- UK\\t\\t\\t\\tcontrols.uac@bnpparibas.com\\n- Paris\\t\\t\\t\\tparis.cib.uac@bnpparibas.com\\n- Europe\\t\\t\\t\\tbso.cib@bnpparibasfortis.com\\n- Asia-Pacific\\t\\tapac_user_access_client_service@asia.bnpparibas.com\\n- BP2S\\t\\t\\t\\tglobal_bp2s_jurisdiction@bnpparibas.com\\n- Switzerland\\t\\tswiss_sailpoint@bnpparibas.com\\n- Group Finance\\t\\tparis_gf_sailpoint_admin@bnpparibas.com\\n- Latin America\\t\\tlatam_uac@br.bnpparibas.com\\n- North America\\t\\tglobal.iam.operations.support@asia.bnpparibas.com\\n- MEA\\t\\t\\t\\tmea.security.user.entitlement.control@bnpparibas.com\\n- Asset Management\\t\\tAM.GlobalISSecurity@bnpparibas.com\\n\\n### 5.2 Manual Provisioners\\n- APAC Cyberark: apac.production.security@asia.bnpparibas.com\\n- APAC AD: APAC IT ACCESS CONTROL\\n- EMEA cyberark & extended rights: EMEA CIB SECURITY EXTENDED RIGHTS\\n- EMEA AD:\\n- AMER Cyberark & Production security: dl.nar_cyberark@us.bnpparibas.com\\n- AMER CAM (for AD onboarding): NAR CLIENT SERVICES NAR_CAM; nar_uam@us.bnpparibas.com'),\n",
       " Document(metadata={'header': '## 6. Official Cyberark team documentation.', 'category': 'MyIAM'}, page_content='## 6. Official Cyberark team documentation.\\n- IT access model: https://collab.cib.echonet/iandp/sites/Risk-and-Strategy/IT%20Security%20Operations/SecProd-OS-and-Services/UserGuides/Public%20Documents/IT_Access_Model.pptx?web=1\\n- Cyberark training: https://hr-bnpparibas.csod.com/lms/scorm/clientLMS/Scorm12IframeContainer.aspx?aicc_sid=AICCHJFKgj9JFGBsdNktoioQ5n-3zg-2sC9E6d8Nr3hh7jE&aicc_url=https://hr-bnpparibas.csod.com/LMS/scorm/aicc.asp')]"
      ]
     },
     "execution_count": 21,
     "metadata": {},
     "output_type": "execute_result"
    }
   ],
   "source": [
    "\n",
    "from langchain.schema import Document\n",
    "\n",
    "# Merge headers with content\n",
    "documents = []\n",
    "for chunk in chunks:  # Assuming header is followed by /n\n",
    "    header = chunk.split('\\n')[0]\n",
    "    documents.append(Document(page_content=chunk, metadata={\"header\": header, \"category\": \"MyIAM\"}))\n",
    "\n",
    "documents"
   ]
  },
  {
   "cell_type": "code",
   "execution_count": 51,
   "metadata": {},
   "outputs": [
    {
     "data": {
      "text/plain": [
       "['# The Product Owner (PO)\\nEvery team in the company creates products, the templates for create the items on the virtual cloud, so the users can order them. That is, for example, Unix server product, sqlserver product, etc. This teams are the products owners.',\n",
       " '## PO roles\\nA product owner (PO) is a key role in agile development and product management. The PO is responsible for defining and prioritizing the product vision, goals, and requirements, and for ensuring that his development team understands and delivers on these objectives as well as to manage the incidents raised by instances of its product. The PO serves as the main point of contact for the development team, stakeholders, and customers, and is responsible for making decisions about the product roadmap and feature prioritization. The PO should have a deep understanding of the product he aims to build and its technical capabilities, customer needs, and user experience. The PO is responsible for defining product requirements in and for working with his development team to ensure that those requirements are implemented. He should also take point in any incident investigation regarding its product.',\n",
       " '# Products and subscriptions\\nROBOTIC team is responsible for designing and managing DPI (the product library and action broker) and VANISH (the orchestrator).\\nThe PO uses these tools to define and manage their own products, as varied as Linux VM with an Apache server installed, an AVI, or an extra Linux Administrative account. A subscription is an instance of a product requested and owned by an user. It is created, destroyed and managed by its requester using the Vanish flows defined by the PO. Subscriptions are paused during each action execution to prevent concurrent actions from being launched.',\n",
       " '# Product Flows\\nThe PO defines creation and termination flows for their products in VANISH, which can include tasks such as creating a VM, registering it in DNS, installing software (web server, database, etc)... These flows should also have associated rollback flows to undo steps in case of failure. The PO can also define management actions that can be taken on their products, such as restarting a server or performing a backup/restore.\\nAll these flows are owned and designed by the PO, although they may call subflows from other teams to perform common tasks. They have also defined a team that is responsible of the maintenance/review/answer on call duties for that flows or products.',\n",
       " \"# PO and ROBOTIC roles\\n- The ROBOTIC team's role is to ensure that VANISH and DPI are functioning properly. \\n- The PO responsibility is ensuring that product creation, destruction, and management/upgrade flows work properly. If a flow fails, it is the PO's responsibility to investigate the error and determine the ownership of the affected code. They must then liaise with the responsible team to resolve the issue and lead the actions for the correction.\\n\\n# Tools provided by robotic\\nROBOTIC also provides several tools for the POs for the analisis of failures.\\n\\n## DPI Swagger Tool\\nFor managing products, subscriptions and subscription states & status. Provides web access to DPI API and allows SSO\\n- PRD: https://robotic-dpi.cib.echonet/docs#/\\n- STG: https://new-dpi-stg.xmp.net.intra/docs#/\\n- Documentation about it is on https://bitbucket.cib.echonet/projects/ROBOTIC/repos/dpi-documentations/browse/latest/how_to_update_state_of_subscription.md\",\n",
       " '## DPI PRD/STG Dashboard Tool\\nHere can be found the actions brokered through DPI over the subscription. Also the state (information reflected in Marketplace) can be edited.\\nEach PO can access only the subs of their ecosystem and the subs of their products\\n- PRD: https://robotic-dashboard.cib.echonet/dpi/subscriptions?env=production\\n- STG: https://robotic-dashboard.cib.echonet/dpi/subscriptions?env=staging\\n\\n## CAPSULE REFERENTIAL PRD/STG Dashboard Tool\\nTo locate a subscription via its name, ecosystem and/or hostname\\n- PRD: https://robotic-dashboard.cib.echonet/dpi/referential?env=production\\n- STG: https://robotic-dashboard.cib.echonet/dpi/referential?env=staging\\n\\n\\n## Faultdoctor Tool\\nFrom a job ID the POs are able to locate the subflows in error with error detailing and team in charge. Also can be use for problems with rollback flows\\nPRD/STG: https://faultdoctor.staging.echonet/#',\n",
       " \"# Subscription Management Action Failures\\nIf an action over a subscription fails, it will leave the subscription in a paused state so no more actions can be launched on them. This is done so no more actions can be launched over it until the PO reviews itin case the underlying server/application was left in an undesirable state. iI is the PO's responsibility to restore the function of the subscription and, if necessary, continue the action manually or by relaunching the flow. The PO can reactivate/unpause a subscription using the DPI API or DPI Swagger.\\nThe responsibility for resolving issues with subscriptions cannot be outsourced to the ROBOTIC team, as they do not possess the know how nor the access to evaluate the state of the subscription or manage it. ROBOTIC is not the replacement on-call support team for the POs, they have their own on-call team.\",\n",
       " '## Several examples of the actions the PO or its support team should perform:\\n- Server restart failure: they need to Reactivate the subscription, Manually reactivate the server and/or Relaunch the restart flow\\n- OS upgrade failure: Check in which state the server is, Reactivate the subscription if they see it fit. If the server should be upgraded and the flow didnt finished the job: Manually upgrade the server or Relaunch the upgrade flow from marketplace\\n- Database Backup failure Check in wich state the server is, Reactivate the subscription if they see it fit, If the database still should be back up and the flow didnt finished the job, Manually backup the database or relaunch the backup flow from marketplace.\\n- If ultimately, ROBOTIC team is needed (i.e.: because vanish itself is down, etc… and the PO team cannot connect to reactivate the subscription) they can be contacted on call: but not before the product owner team checks themselves first that that is the case.',\n",
       " '# IV2 Orphans\\nWhen a Server Based subscription is terminated, be it by its owner or because the deployment failed, at a certain point of the decom/rollback flow the VM should be terminated. If there is any problem with said flow the VM (if its not a baremetal) or some associated instruments could remain even if the subscription is marked as terminated. This is what we define as an Orphan.\\n\\n## example of orphaned items\\n- Alive VM, not necesarily turned on or operational at all but wasting space in datacenter\\n- Active Directory entries\\n- DNS/IP record\\n- Service Now entries',\n",
       " '## Investigation of the root cause\\nFirst and foremost: the cause of the orphan creation must be investigated and addresed. The product owner must check the impacted flow and locate the cause of the error. This could be, but not limited to:\\n- Failure in the specific item decom task itself.\\n- Failure in a required previous task that prevented the flow to continue.\\n- Failure to render the rollback flow due to a coding error/typo\\nProduct owner should locate the root cause that prevented the decom task to be run and liaise to the team that owns the flow (if it is not his own) to finish the investigation. If possible the issue should be addressed. To help with locating the different issues and owners of the flows you can use the faultdoctor api\\nOnce this postmortem is done, PO can begin the cleaning of the orphaned items.\\nDO NOT DECOM IT ANYTHING BEFORE INVESTIGATE IT AND OVER ALL DO NOT DO BULK DELETIONS.',\n",
       " '## Orphaned VM\\nThis is the most common case and the most wasteful. To help on the VM cleaning ROBOTIC provided the orphan dashboard tookl\\n- VANISH PRD: https://robotic-dashboard.cib.echonet/orphans?env=production\\n- VANISH STG: https://robotic-dashboard.cib.echonet/orphans?env=staging\\nOnly the specific product owners could use the dashboard to delete an specific product attributes.\\nTo look for an specific server first be sure to clean all the filters, then paste the server name:\\nFrom here PO can trigger a retry, if it was a failed undeployment, a complete rollback, if it was a failed deployment, or directly call a delete VM flow, at his discrction.',\n",
       " '## Orphaned AD, DNS, service now (SNOW) & Patching\\nWhen a server based subscription is terminated the undeployment must take care, appart of the server itself, of:\\n- Its Active Directory entries\\n- DNS/IP record\\n- Service Now entries\\n- Patching enrollment\\nIf the decom process/rollback process fail some or all of this entries will remain, usually raising an alert in Pamela.',\n",
       " '### the Pamela orphan dashboard for cleaning AD, DNS, service now (SNOW) & Patching\\nTo help the product owners to clean afterwards robotic created this dashboard:\\n- VANISH PRD: https://robotic-dashboard.cib.echonet/pamela-orphans?env=production\\n- VANISH STG: https://robotic-dashboard.cib.echonet/pamela-orphans?env=staging\\nOnly the specific product owners could use the dashboard to delete an specific product attributes.\\nTo look for an specific server the PO first need to be sure to clean all the filters (manually, do not use the button), then paste the server name (case sensitive):\\nFrom here the PO can see the entries that are still active. If the PO are finished the investigation on why this subscription elements remained active and is sure they need to be removed he can check the item and click on decom. A warning window will appear and the decom will be performed\\nDO NOT DECOM IT IN THE PAMELA ORPHAN DASHBOARD IF YOU FIND THAT THE VM IS STILL ALIVE. IT WILL RENDER THE VM INACCESIBLE.']"
      ]
     },
     "execution_count": 51,
     "metadata": {},
     "output_type": "execute_result"
    }
   ],
   "source": [
    "# PO  document\n",
    "# Load your document\n",
    "with open(\"documents/product_owner.txt\", \"r\") as f:\n",
    "    text = f.read()\n",
    "\n",
    "# Chunk the text\n",
    "splitter = MarkdownTextSplitter(chunk_size=1024, chunk_overlap=50)\n",
    "chunks = splitter.split_text(text)\n",
    "chunks"
   ]
  },
  {
   "cell_type": "code",
   "execution_count": 53,
   "metadata": {},
   "outputs": [
    {
     "data": {
      "text/plain": [
       "[Document(metadata={'header': '# The Product Owner (PO)', 'category': 'Product Owner'}, page_content='# The Product Owner (PO)\\nEvery team in the company creates products, the templates for create the items on the virtual cloud, so the users can order them. That is, for example, Unix server product, sqlserver product, etc. This teams are the products owners.'),\n",
       " Document(metadata={'header': '## PO roles', 'category': 'Product Owner'}, page_content='## PO roles\\nA product owner (PO) is a key role in agile development and product management. The PO is responsible for defining and prioritizing the product vision, goals, and requirements, and for ensuring that his development team understands and delivers on these objectives as well as to manage the incidents raised by instances of its product. The PO serves as the main point of contact for the development team, stakeholders, and customers, and is responsible for making decisions about the product roadmap and feature prioritization. The PO should have a deep understanding of the product he aims to build and its technical capabilities, customer needs, and user experience. The PO is responsible for defining product requirements in and for working with his development team to ensure that those requirements are implemented. He should also take point in any incident investigation regarding its product.'),\n",
       " Document(metadata={'header': '# Products and subscriptions', 'category': 'Product Owner'}, page_content='# Products and subscriptions\\nROBOTIC team is responsible for designing and managing DPI (the product library and action broker) and VANISH (the orchestrator).\\nThe PO uses these tools to define and manage their own products, as varied as Linux VM with an Apache server installed, an AVI, or an extra Linux Administrative account. A subscription is an instance of a product requested and owned by an user. It is created, destroyed and managed by its requester using the Vanish flows defined by the PO. Subscriptions are paused during each action execution to prevent concurrent actions from being launched.'),\n",
       " Document(metadata={'header': '# Product Flows', 'category': 'Product Owner'}, page_content='# Product Flows\\nThe PO defines creation and termination flows for their products in VANISH, which can include tasks such as creating a VM, registering it in DNS, installing software (web server, database, etc)... These flows should also have associated rollback flows to undo steps in case of failure. The PO can also define management actions that can be taken on their products, such as restarting a server or performing a backup/restore.\\nAll these flows are owned and designed by the PO, although they may call subflows from other teams to perform common tasks. They have also defined a team that is responsible of the maintenance/review/answer on call duties for that flows or products.'),\n",
       " Document(metadata={'header': '# PO and ROBOTIC roles', 'category': 'Product Owner'}, page_content=\"# PO and ROBOTIC roles\\n- The ROBOTIC team's role is to ensure that VANISH and DPI are functioning properly. \\n- The PO responsibility is ensuring that product creation, destruction, and management/upgrade flows work properly. If a flow fails, it is the PO's responsibility to investigate the error and determine the ownership of the affected code. They must then liaise with the responsible team to resolve the issue and lead the actions for the correction.\\n\\n# Tools provided by robotic\\nROBOTIC also provides several tools for the POs for the analisis of failures.\\n\\n## DPI Swagger Tool\\nFor managing products, subscriptions and subscription states & status. Provides web access to DPI API and allows SSO\\n- PRD: https://robotic-dpi.cib.echonet/docs#/\\n- STG: https://new-dpi-stg.xmp.net.intra/docs#/\\n- Documentation about it is on https://bitbucket.cib.echonet/projects/ROBOTIC/repos/dpi-documentations/browse/latest/how_to_update_state_of_subscription.md\"),\n",
       " Document(metadata={'header': '## DPI PRD/STG Dashboard Tool', 'category': 'Product Owner'}, page_content='## DPI PRD/STG Dashboard Tool\\nHere can be found the actions brokered through DPI over the subscription. Also the state (information reflected in Marketplace) can be edited.\\nEach PO can access only the subs of their ecosystem and the subs of their products\\n- PRD: https://robotic-dashboard.cib.echonet/dpi/subscriptions?env=production\\n- STG: https://robotic-dashboard.cib.echonet/dpi/subscriptions?env=staging\\n\\n## CAPSULE REFERENTIAL PRD/STG Dashboard Tool\\nTo locate a subscription via its name, ecosystem and/or hostname\\n- PRD: https://robotic-dashboard.cib.echonet/dpi/referential?env=production\\n- STG: https://robotic-dashboard.cib.echonet/dpi/referential?env=staging\\n\\n\\n## Faultdoctor Tool\\nFrom a job ID the POs are able to locate the subflows in error with error detailing and team in charge. Also can be use for problems with rollback flows\\nPRD/STG: https://faultdoctor.staging.echonet/#'),\n",
       " Document(metadata={'header': '# Subscription Management Action Failures', 'category': 'Product Owner'}, page_content=\"# Subscription Management Action Failures\\nIf an action over a subscription fails, it will leave the subscription in a paused state so no more actions can be launched on them. This is done so no more actions can be launched over it until the PO reviews itin case the underlying server/application was left in an undesirable state. iI is the PO's responsibility to restore the function of the subscription and, if necessary, continue the action manually or by relaunching the flow. The PO can reactivate/unpause a subscription using the DPI API or DPI Swagger.\\nThe responsibility for resolving issues with subscriptions cannot be outsourced to the ROBOTIC team, as they do not possess the know how nor the access to evaluate the state of the subscription or manage it. ROBOTIC is not the replacement on-call support team for the POs, they have their own on-call team.\"),\n",
       " Document(metadata={'header': '## Several examples of the actions the PO or its support team should perform:', 'category': 'Product Owner'}, page_content='## Several examples of the actions the PO or its support team should perform:\\n- Server restart failure: they need to Reactivate the subscription, Manually reactivate the server and/or Relaunch the restart flow\\n- OS upgrade failure: Check in which state the server is, Reactivate the subscription if they see it fit. If the server should be upgraded and the flow didnt finished the job: Manually upgrade the server or Relaunch the upgrade flow from marketplace\\n- Database Backup failure Check in wich state the server is, Reactivate the subscription if they see it fit, If the database still should be back up and the flow didnt finished the job, Manually backup the database or relaunch the backup flow from marketplace.\\n- If ultimately, ROBOTIC team is needed (i.e.: because vanish itself is down, etc… and the PO team cannot connect to reactivate the subscription) they can be contacted on call: but not before the product owner team checks themselves first that that is the case.'),\n",
       " Document(metadata={'header': '# IV2 Orphans', 'category': 'Product Owner'}, page_content='# IV2 Orphans\\nWhen a Server Based subscription is terminated, be it by its owner or because the deployment failed, at a certain point of the decom/rollback flow the VM should be terminated. If there is any problem with said flow the VM (if its not a baremetal) or some associated instruments could remain even if the subscription is marked as terminated. This is what we define as an Orphan.\\n\\n## example of orphaned items\\n- Alive VM, not necesarily turned on or operational at all but wasting space in datacenter\\n- Active Directory entries\\n- DNS/IP record\\n- Service Now entries'),\n",
       " Document(metadata={'header': '## Investigation of the root cause', 'category': 'Product Owner'}, page_content='## Investigation of the root cause\\nFirst and foremost: the cause of the orphan creation must be investigated and addresed. The product owner must check the impacted flow and locate the cause of the error. This could be, but not limited to:\\n- Failure in the specific item decom task itself.\\n- Failure in a required previous task that prevented the flow to continue.\\n- Failure to render the rollback flow due to a coding error/typo\\nProduct owner should locate the root cause that prevented the decom task to be run and liaise to the team that owns the flow (if it is not his own) to finish the investigation. If possible the issue should be addressed. To help with locating the different issues and owners of the flows you can use the faultdoctor api\\nOnce this postmortem is done, PO can begin the cleaning of the orphaned items.\\nDO NOT DECOM IT ANYTHING BEFORE INVESTIGATE IT AND OVER ALL DO NOT DO BULK DELETIONS.'),\n",
       " Document(metadata={'header': '## Orphaned VM', 'category': 'Product Owner'}, page_content='## Orphaned VM\\nThis is the most common case and the most wasteful. To help on the VM cleaning ROBOTIC provided the orphan dashboard tookl\\n- VANISH PRD: https://robotic-dashboard.cib.echonet/orphans?env=production\\n- VANISH STG: https://robotic-dashboard.cib.echonet/orphans?env=staging\\nOnly the specific product owners could use the dashboard to delete an specific product attributes.\\nTo look for an specific server first be sure to clean all the filters, then paste the server name:\\nFrom here PO can trigger a retry, if it was a failed undeployment, a complete rollback, if it was a failed deployment, or directly call a delete VM flow, at his discrction.'),\n",
       " Document(metadata={'header': '## Orphaned AD, DNS, service now (SNOW) & Patching', 'category': 'Product Owner'}, page_content='## Orphaned AD, DNS, service now (SNOW) & Patching\\nWhen a server based subscription is terminated the undeployment must take care, appart of the server itself, of:\\n- Its Active Directory entries\\n- DNS/IP record\\n- Service Now entries\\n- Patching enrollment\\nIf the decom process/rollback process fail some or all of this entries will remain, usually raising an alert in Pamela.'),\n",
       " Document(metadata={'header': '### the Pamela orphan dashboard for cleaning AD, DNS, service now (SNOW) & Patching', 'category': 'Product Owner'}, page_content='### the Pamela orphan dashboard for cleaning AD, DNS, service now (SNOW) & Patching\\nTo help the product owners to clean afterwards robotic created this dashboard:\\n- VANISH PRD: https://robotic-dashboard.cib.echonet/pamela-orphans?env=production\\n- VANISH STG: https://robotic-dashboard.cib.echonet/pamela-orphans?env=staging\\nOnly the specific product owners could use the dashboard to delete an specific product attributes.\\nTo look for an specific server the PO first need to be sure to clean all the filters (manually, do not use the button), then paste the server name (case sensitive):\\nFrom here the PO can see the entries that are still active. If the PO are finished the investigation on why this subscription elements remained active and is sure they need to be removed he can check the item and click on decom. A warning window will appear and the decom will be performed\\nDO NOT DECOM IT IN THE PAMELA ORPHAN DASHBOARD IF YOU FIND THAT THE VM IS STILL ALIVE. IT WILL RENDER THE VM INACCESIBLE.')]"
      ]
     },
     "execution_count": 53,
     "metadata": {},
     "output_type": "execute_result"
    }
   ],
   "source": [
    "po_documents = []\n",
    "for chunk in chunks:  # Assuming header is followed by /n\n",
    "    header = chunk.split('\\n')[0]\n",
    "    po_documents.append(Document(page_content=chunk, metadata={\"header\": header, \"category\": \"Product Owner\"}))\n",
    "po_documents"
   ]
  },
  {
   "cell_type": "code",
   "execution_count": 54,
   "metadata": {},
   "outputs": [],
   "source": [
    "documents.extend(po_documents)"
   ]
  },
  {
   "cell_type": "markdown",
   "metadata": {},
   "source": [
    "## 2. Embedding the Chunks/Documents\n",
    "Once split, convert the text into vector embeddings using a model like:\n",
    "- OpenAIEmbeddings (if using  -> remember to get the api key in the .env)\n",
    "- HuggingFaceEmbeddings (for local models)\n",
    "- SentenceTransformersEmbeddings (optimized for sentence-level retrieval)\n",
    "\n",
    "## 3. Storing in Chroma\n",
    "- Use Chroma as a vector store to hold the embeddings.\n",
    "- You can initialize it with LangChain:\n"
   ]
  },
  {
   "cell_type": "code",
   "execution_count": 55,
   "metadata": {},
   "outputs": [
    {
     "name": "stdout",
     "output_type": "stream",
     "text": [
      "# 0. Introduction\n",
      "The name of our team is ROBOTIC. We are responsible of the creation and maintennance of BNP's private cloud via DPI wich is its action broker and library of products and Vanish wich is our orchestator. We are also the responsible team of creating and maintaining the onboarding automations for some entitlements of MyIAM. I would provide you some information and then I will ask you to answer some emails I will provide.\n",
      "\n",
      "## 1. Entitlements automatic onboarding\n",
      "Our team is known in MyIAM as IV2 Manual Provisioner. Despite the unfortunate name we have in MyIAM, ROBOTIC is responsible of maintaining the automatic onboarding flows for IV2 and we are not allowed nor we have rights to onboard anything manually. We do not outsource our automatic flows to onboard anything else. All our onboarding is done automatically and is triggered either by MyIAM to provision an entitlement managed by us or by ecosystem and subscription deployments.\n",
      "For IV2 extended rights team defined a complete microjurisdiction (for more detail you can check it here https://collab.cib.echonet/iandp/sites/Risk-and-Strategy/IT%20Security%20Operations/SecProd-OS-and-Services/UserGuides/SitePages/Home.aspx ).\n",
      "Due to that we are limited in what our flows are allowed and what we technically can do.\n",
      "Users can request entitlements for them or for service users through MyIAM. The entitlements that we onboard can be divided in three:\n"
     ]
    }
   ],
   "source": [
    "# from langchain.vectorstores import Chroma\n",
    "from langchain_chroma import Chroma\n",
    "from langchain.embeddings.openai import OpenAIEmbeddings\n",
    "import dotenv\n",
    "dotenv.load_dotenv()\n",
    "REVIEWS_CHROMA_PATH=\"chroma_data\"\n",
    "# Generate embeddings\n",
    "embeddings = OpenAIEmbeddings()\n",
    "# vector_store = Chroma.from_texts(chunks, embeddings)\n",
    "vector_store = Chroma.from_documents(documents, embeddings, persist_directory=REVIEWS_CHROMA_PATH)\n",
    "\n",
    "# Query the vector store\n",
    "query = \"What is the name of our team?\"\n",
    "docs = vector_store.similarity_search(query, k=3)\n",
    "print(docs[0].page_content) "
   ]
  },
  {
   "cell_type": "markdown",
   "metadata": {},
   "source": [
    "### The RAG chain in one go"
   ]
  },
  {
   "cell_type": "code",
   "execution_count": 56,
   "metadata": {},
   "outputs": [
    {
     "name": "stdout",
     "output_type": "stream",
     "text": [
      "The name of our team is ROBOTIC.\n"
     ]
    }
   ],
   "source": [
    "from langchain.prompts import (\n",
    "    ChatPromptTemplate,\n",
    "    HumanMessagePromptTemplate,\n",
    "    PromptTemplate,\n",
    "    SystemMessagePromptTemplate,\n",
    ")\n",
    "from langchain_openai import ChatOpenAI, OpenAIEmbeddings\n",
    "from langchain_core.output_parsers import StrOutputParser\n",
    "from langchain.schema.runnable import RunnablePassthrough\n",
    "\n",
    "\n",
    "# First define the system & human prompts -> chat prompt template\n",
    "roboasistant_system_template_str = \"\"\"You are a member of the robotic team. \n",
    "Your job is to answer questions about the onboarding of entitlements or the product ownership.\n",
    "Use the following context to answer questions.\n",
    "Be as detailed as possible, but don't make up any information\n",
    "that's not from the context. If you don't know an answer, say\n",
    "you don't know.\n",
    "{context}\n",
    "\"\"\"\n",
    "\n",
    "roboasistant_system_prompt = SystemMessagePromptTemplate(\n",
    "    prompt=PromptTemplate(\n",
    "        input_variables=[\"context\"], template=roboasistant_system_template_str\n",
    "    )\n",
    ")\n",
    "\n",
    "roboasistant_human_prompt = HumanMessagePromptTemplate(\n",
    "    prompt=PromptTemplate(input_variables=[\"question\"], template=\"{question}\")\n",
    ")\n",
    "roboassistant_messages = [roboasistant_system_prompt, roboasistant_human_prompt]\n",
    "\n",
    "roboassistant_prompt_template = ChatPromptTemplate(\n",
    "    input_variables=[\"context\", \"question\"], messages=roboassistant_messages\n",
    ")\n",
    "\n",
    "\n",
    "# Second define the RAG chain = retriever, chat prompt template, chat model & output parser\n",
    "chat_model = ChatOpenAI(model=\"gpt-3.5-turbo-0125\", temperature=0)\n",
    "\n",
    "output_parser = StrOutputParser()\n",
    "\n",
    "faqs_vector_db = Chroma(\n",
    "    persist_directory=REVIEWS_CHROMA_PATH,\n",
    "    embedding_function=OpenAIEmbeddings(),\n",
    ")\n",
    "\n",
    "faqs_retriever = faqs_vector_db.as_retriever(k=3)\n",
    "\n",
    "faqs_roboassistant_chain = (\n",
    "    {\"context\": faqs_retriever, \"question\": RunnablePassthrough()}\n",
    "    | roboassistant_prompt_template\n",
    "    | chat_model\n",
    "    | StrOutputParser()\n",
    ")\n",
    "question = \"Whats the name of your team?\"\n",
    "print(faqs_roboassistant_chain.invoke(question))"
   ]
  },
  {
   "cell_type": "code",
   "execution_count": 58,
   "metadata": {},
   "outputs": [
    {
     "name": "stdout",
     "output_type": "stream",
     "text": [
      "The main responsibilities of a Product Owner (PO) include:\n",
      "\n",
      "1. Defining and prioritizing the product vision, goals, and requirements.\n",
      "2. Ensuring that the development team understands and delivers on these objectives.\n",
      "3. Serving as the main point of contact for the development team, stakeholders, and customers.\n",
      "4. Making decisions about the product roadmap and feature prioritization.\n",
      "5. Having a deep understanding of the product, its technical capabilities, customer needs, and user experience.\n",
      "6. Defining product requirements and working with the development team to ensure implementation.\n",
      "7. Managing incidents raised by instances of the product.\n",
      "8. Investigating incidents regarding the product and leading actions for correction.\n"
     ]
    }
   ],
   "source": [
    "question = \"What are POs main responsibilities?\"\n",
    "print(faqs_roboassistant_chain.invoke(question))"
   ]
  },
  {
   "cell_type": "markdown",
   "metadata": {},
   "source": []
  }
 ],
 "metadata": {
  "kernelspec": {
   "display_name": ".venv",
   "language": "python",
   "name": "python3"
  },
  "language_info": {
   "codemirror_mode": {
    "name": "ipython",
    "version": 3
   },
   "file_extension": ".py",
   "mimetype": "text/x-python",
   "name": "python",
   "nbconvert_exporter": "python",
   "pygments_lexer": "ipython3",
   "version": "3.11.0rc1"
  }
 },
 "nbformat": 4,
 "nbformat_minor": 2
}
